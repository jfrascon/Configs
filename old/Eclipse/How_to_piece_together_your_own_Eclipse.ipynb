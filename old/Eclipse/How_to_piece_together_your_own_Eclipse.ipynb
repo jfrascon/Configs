{
 "cells": [
  {
   "cell_type": "markdown",
   "metadata": {},
   "source": [
    "# [How to piece together your own Eclipse](https://codeyarns.com/2015/01/02/how-to-piece-together-your-own-eclipse/)\n",
    "\n",
    "**Eclipse** is developed as a modularized system with a central **core platform** and additional **features** and **plugins** that provide functionality required for a certain language (like Java or C++). These **packaged** versions of Eclipse that are put together for different languages is what is provided on its [download page](http://www.eclipse.org/downloads/).\n",
    "\n",
    "You may feel that the Eclipse packages available for Java or C++ (CDT) are extremely bloated with hundreds of features and plugins that you may never use. For example, Eclipse CDT includes hundreds of MyLyn features and cross-compiler support, none of which I may require right now. The **beauty** of Eclipse is that everything is a plugin, so you can actually build yourself a lean Eclipse that only includes what you want. This way you can build a minimal Eclipse that has only the features you want.\n",
    "\n",
    "## Step 1: Get the platform runtime binary\n",
    "\n",
    "1. The core of Eclipse is provided for download as **Eclipse Platform Runtime Binary**. To get it, go to this [page](http://download.eclipse.org/eclipse/downloads/) and click on the build number you want. It opens a new page, where you scroll down to the section named **Platform Runtime Binary** and download the package matching your system.\n",
    "2. Unzip the zip file you downloaded and run the `eclipse` binary file. The IDE opens and it works.\n",
    "\n",
    "## Step 2: Add the plugins\n",
    "\n",
    "1. Now add the plugins you want from Help -> Install New Software. For plugins provided by Eclipse, choose **Oxygen** from the dropdown. For external plugins, add their URL.\n",
    "\n",
    "2. For creating a Eclipse C++ IDE of my own, I installed these plugins:\n",
    "    * Oxygen -> Programming Languages -> C/C++ Development Tools\n",
    "    * CPPChEclipse\n",
    "3. For creating a Eclipse Python IDE of my own, I installed these plugins:\n",
    "    * PyDev"
   ]
  },
  {
   "cell_type": "code",
   "execution_count": null,
   "metadata": {},
   "outputs": [],
   "source": []
  }
 ],
 "metadata": {
  "kernelspec": {
   "display_name": "Python 3",
   "language": "python",
   "name": "python3"
  },
  "language_info": {
   "codemirror_mode": {
    "name": "ipython",
    "version": 3
   },
   "file_extension": ".py",
   "mimetype": "text/x-python",
   "name": "python",
   "nbconvert_exporter": "python",
   "pygments_lexer": "ipython3",
   "version": "3.6.3"
  }
 },
 "nbformat": 4,
 "nbformat_minor": 2
}
