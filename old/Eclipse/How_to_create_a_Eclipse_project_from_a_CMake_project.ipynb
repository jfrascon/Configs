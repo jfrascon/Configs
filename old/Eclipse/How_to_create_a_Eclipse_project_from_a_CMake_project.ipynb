{
 "cells": [
  {
   "cell_type": "markdown",
   "metadata": {},
   "source": [
    "# [How to create a Eclipse project from a CMake project](https://codeyarns.com/2014/01/15/how-to-create-eclipse-project-from-cmake-project/)\n",
    "\n",
    "**CMake** is a popular way to create and maintain C++ projects that are easy to build on different platforms. While CMake can be used to easily generate Visual Studio solutions, it does not work well at creating **Eclipse CDT** projects. One method to get around this and to use an existing CMake project with C++ code in **Eclipse** is to use the **Makefile project**. This enables you to use the existing source files right from where they are. However, Eclipse assumes that the Makefile location is at the root of the directory you used to create the project.\n",
    "\n",
    "The common CMake convention is to generate the Makefile and other files in a separate subdirectory. In this scenario I'll assume that I want to create a `build` directory within my project folder, where all the results of the compilation step must be placed.\n",
    "\n",
    "1. To be able to build your project, run CMake from the terminal to generate the Makefile. \n",
    "\n",
    "```bash\n",
    "project_folder $ mkdir build\n",
    "project_folder $ cd build\n",
    "build $ cmake ..\n",
    "```\n",
    "\n",
    "1. Go to: File > New > Makefile Project with Existing Code\n",
    "2. In the Import Existing Code dialog, provide a Project Name and in the Existing Code Location give the directory containing your CMake project.\n",
    "3. The project is created and all the files and directories in your CMake project appear in the Project Explorer. Fear not, Eclipse has not made copies of these files (as it does for most types of imports). Instead, it is working directly from the location of your CMake project.\n",
    "4. Configure Eclipse to use a Makefile that is located somewhere else in the project directory (more details [here](https://codeyarns.com/2014/01/15/how-to-change-make-location-in-eclipse/)):  \n",
    "    4.1. Go to Project > Properties > C/C++ Build  \n",
    "    4.2. In the Builder Settings > Build location > Build directory entry, you will find `${workspace_loc:/project_name}` by default. By default, when you build this project, Eclipse will run `make` from this directory.  \n",
    "    4.3. To configure Eclipse to use the Makefile that is in a different location inside the project directory, change this entry. For example, if my Makefile is located in a `build` subdirectory, then I can change this to `${workspace_loc:/project_name}/build`.\n",
    "    \n",
    "   When you choose Project > Build Project, Eclipse runs make in the path `${workspace_loc:/project_name}/build` thus using the generated Makefile.\n",
    "\n",
    "5. This project can compile one or more target executables, but you cannot Run or Debug them. To be able to do that, create one or more Launch Configurations for the project. You can do this in Project > Properties > Run-Debug Settings. In the Launch Configuration window, select the project you are working with and then press the `Edit` button. At a bare minimum you should at least provide the path to the target executable in the C/C++ Application field.\n",
    "\n",
    "Now you can compile, run or debug your application from Eclipse itself! 🙂\n",
    "\n",
    "You will find that Eclipse has not created either any directory or files in your Workspace directory or in the existing source code base directory. So, where is it storing the config files for your project?\n",
    "\n",
    "These are just some of the files and directories, Eclipse uses for such a project:\n",
    "\n",
    ".project and .cproject hidden files in the source code directory\n",
    "All other project details are stored in your_workspace/.metadata/.plugins/org.eclipse.core.resources/.projects"
   ]
  },
  {
   "cell_type": "markdown",
   "metadata": {},
   "source": []
  },
  {
   "cell_type": "code",
   "execution_count": null,
   "metadata": {},
   "outputs": [],
   "source": []
  }
 ],
 "metadata": {
  "kernelspec": {
   "display_name": "Python 3",
   "language": "python",
   "name": "python3"
  },
  "language_info": {
   "codemirror_mode": {
    "name": "ipython",
    "version": 3
   },
   "file_extension": ".py",
   "mimetype": "text/x-python",
   "name": "python",
   "nbconvert_exporter": "python",
   "pygments_lexer": "ipython3",
   "version": "3.6.3"
  }
 },
 "nbformat": 4,
 "nbformat_minor": 2
}
