{
 "cells": [
  {
   "cell_type": "markdown",
   "metadata": {},
   "source": [
    "# [How to change compiler options used by indexer in Eclipse CDT](https://codeyarns.com/2015/10/02/how-to-change-compiler-options-used-by-indexer-in-eclipse-cdt/)\n",
    "\n",
    "**Eclipse CDT** understands the **C++** code in a window by running it through an **indexer**. This indexer is nothing but an invocation of the GCC C++ compiler with certain compilation options. Sometimes, you might want to change the compiler options used by this indexer.\n",
    "\n",
    "For example, I recently found that C++11 containers and classes (like future) were not resolved by the indexer and were underlined with red squiggles. This is because the compiler options used by the indexer does not have `-std=c++11`.\n",
    "\n",
    "To change the compiler options of the indexer:\n",
    "\n",
    "1. Open **Preferences** and go to C/C++ -> Build -> Settings.\n",
    "2. Click the **Discovery** tab and choose **CDT GCC Built-in Compiler Settings**.\n",
    "3. Modify the command string shown below as you wish. For example, here I added `-std=c++11`.\n",
    "4. Just in case, in the **Discovery** tab choose **CDT Cross GCC Built-in Compiler Settings** and modify the command string shown below as you wish.\n",
    "4. Eclipse CDT will automatically re-index your C++ files after this is saved. However, I found that this did not remove the unresolved items.\n",
    "5. I manually re-indexed by right-clicking the project and choosing Index -> Rebuild. This worked!"
   ]
  },
  {
   "cell_type": "code",
   "execution_count": null,
   "metadata": {},
   "outputs": [],
   "source": []
  }
 ],
 "metadata": {
  "kernelspec": {
   "display_name": "Python 3",
   "language": "python",
   "name": "python3"
  },
  "language_info": {
   "codemirror_mode": {
    "name": "ipython",
    "version": 3
   },
   "file_extension": ".py",
   "mimetype": "text/x-python",
   "name": "python",
   "nbconvert_exporter": "python",
   "pygments_lexer": "ipython3",
   "version": "3.6.3"
  }
 },
 "nbformat": 4,
 "nbformat_minor": 2
}
