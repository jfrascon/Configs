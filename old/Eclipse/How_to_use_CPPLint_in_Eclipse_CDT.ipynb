{
 "cells": [
  {
   "cell_type": "markdown",
   "metadata": {},
   "source": [
    "# How to use CPPLint in Eclipse CDT\n",
    "\n",
    "**CPPLint** is a tool created by Google that can be used to check a C++ source or header file. It is a single file Python script. It would be nice to apply CPPLint on a C++ file in **Eclipse CDT**  whenever it is saved. This is possible by using the [CPPStyle](https://github.com/wangzw/CppStyle) plugin for Eclipse. It runs cpplint.py on a saved C++ file and displays the reported errors conveniently in a **Problems** view, as shown in screenshot above.\n",
    "\n",
    "1. First install CPPLint:\n",
    "```bash\n",
    "$ sudo curl -L \"http://google-styleguide.googlecode.com/svn/trunk/cpplint/cpplint.py\" -o /usr/bin/cpplint.py\n",
    "$ sudo chmod a+x /usr/bin/cpplint.py\n",
    "```\n",
    "2. Install CPPStyle plugin in Eclipse. Open Help -> Install New Software and the URL http://wangzw.github.io/CppStyle/update to install it. Eclipse will be restarted after that.\n",
    "3. Open Window -> Preferences -> C/C++ -> CPPStyle. Enable the Enable cpplint on save option.\n",
    "4. Edit and save any C++ file. CPPLint will be run on it. If there are any problems, you can see the output in Console view or see them listed nicely in Problems view."
   ]
  },
  {
   "cell_type": "code",
   "execution_count": null,
   "metadata": {},
   "outputs": [],
   "source": []
  }
 ],
 "metadata": {
  "kernelspec": {
   "display_name": "Python 3",
   "language": "python",
   "name": "python3"
  },
  "language_info": {
   "codemirror_mode": {
    "name": "ipython",
    "version": 3
   },
   "file_extension": ".py",
   "mimetype": "text/x-python",
   "name": "python",
   "nbconvert_exporter": "python",
   "pygments_lexer": "ipython3",
   "version": "3.6.3"
  }
 },
 "nbformat": 4,
 "nbformat_minor": 2
}
