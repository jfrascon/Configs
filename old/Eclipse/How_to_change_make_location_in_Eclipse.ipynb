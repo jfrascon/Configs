{
 "cells": [
  {
   "cell_type": "markdown",
   "metadata": {},
   "source": [
    "# [How to change make location in Eclipse](https://codeyarns.com/2014/01/15/how-to-change-make-location-in-eclipse/)\n",
    "\n",
    "One of the easiest ways to use existing C++ code in **Eclipse** is to use the **Makefile project**. This enables you to use the existing source files right from where they are. However, Eclipse assumes that the Makefile location is at the root of the directory you used to create the project.\n",
    "\n",
    "Configuring Eclipse to use a Makefile that is located somewhere else in the project directory is easy:\n",
    "\n",
    "1. Go to Project > Properties > C/C++ Build\n",
    "2. In the Builder Settings > Build location > Build directory entry, you will find `${workspace_loc:/foobar}` by default. Here foobar is an example project name. By default, when you build this project, Eclipse will run `make` from this directory.\n",
    "3. To configure Eclipse to use the Makefile that is a different location inside the project directory, change this entry. For example, if my Makefile is located in a `build` subdirectory, then I can change this to `${workspace_loc:/foobar}/build`.\n",
    "\n",
    "That is it! You should be able to build your Makefile project no matter where the file is located now 🙂"
   ]
  },
  {
   "cell_type": "code",
   "execution_count": null,
   "metadata": {},
   "outputs": [],
   "source": []
  }
 ],
 "metadata": {
  "kernelspec": {
   "display_name": "Python 3",
   "language": "python",
   "name": "python3"
  },
  "language_info": {
   "codemirror_mode": {
    "name": "ipython",
    "version": 3
   },
   "file_extension": ".py",
   "mimetype": "text/x-python",
   "name": "python",
   "nbconvert_exporter": "python",
   "pygments_lexer": "ipython3",
   "version": "3.6.3"
  }
 },
 "nbformat": 4,
 "nbformat_minor": 2
}
